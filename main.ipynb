{
 "cells": [
  {
   "cell_type": "code",
   "execution_count": 1,
   "id": "77ca8668-fe7f-4777-903e-efe07886c861",
   "metadata": {},
   "outputs": [
    {
     "name": "stdout",
     "output_type": "stream",
     "text": [
      "Requirement already satisfied: pandas in e:\\anaconda\\lib\\site-packages (2.2.2)\n",
      "Requirement already satisfied: matplotlib in e:\\anaconda\\lib\\site-packages (3.9.2)\n",
      "Requirement already satisfied: seaborn in e:\\anaconda\\lib\\site-packages (0.13.2)\n",
      "Requirement already satisfied: openpyxl in e:\\anaconda\\lib\\site-packages (3.1.5)\n",
      "Requirement already satisfied: streamlit in e:\\anaconda\\lib\\site-packages (1.37.1)\n",
      "Collecting fpdf2\n",
      "  Downloading fpdf2-2.8.3-py2.py3-none-any.whl.metadata (69 kB)\n",
      "Collecting python-docx\n",
      "  Downloading python_docx-1.2.0-py3-none-any.whl.metadata (2.0 kB)\n",
      "Requirement already satisfied: numpy>=1.26.0 in e:\\anaconda\\lib\\site-packages (from pandas) (1.26.4)\n",
      "Requirement already satisfied: python-dateutil>=2.8.2 in e:\\anaconda\\lib\\site-packages (from pandas) (2.9.0.post0)\n",
      "Requirement already satisfied: pytz>=2020.1 in e:\\anaconda\\lib\\site-packages (from pandas) (2024.1)\n",
      "Requirement already satisfied: tzdata>=2022.7 in e:\\anaconda\\lib\\site-packages (from pandas) (2023.3)\n",
      "Requirement already satisfied: contourpy>=1.0.1 in e:\\anaconda\\lib\\site-packages (from matplotlib) (1.2.0)\n",
      "Requirement already satisfied: cycler>=0.10 in e:\\anaconda\\lib\\site-packages (from matplotlib) (0.11.0)\n",
      "Requirement already satisfied: fonttools>=4.22.0 in e:\\anaconda\\lib\\site-packages (from matplotlib) (4.51.0)\n",
      "Requirement already satisfied: kiwisolver>=1.3.1 in e:\\anaconda\\lib\\site-packages (from matplotlib) (1.4.4)\n",
      "Requirement already satisfied: packaging>=20.0 in e:\\anaconda\\lib\\site-packages (from matplotlib) (24.1)\n",
      "Requirement already satisfied: pillow>=8 in e:\\anaconda\\lib\\site-packages (from matplotlib) (10.4.0)\n",
      "Requirement already satisfied: pyparsing>=2.3.1 in e:\\anaconda\\lib\\site-packages (from matplotlib) (3.1.2)\n",
      "Requirement already satisfied: et-xmlfile in e:\\anaconda\\lib\\site-packages (from openpyxl) (1.1.0)\n",
      "Requirement already satisfied: altair<6,>=4.0 in e:\\anaconda\\lib\\site-packages (from streamlit) (5.0.1)\n",
      "Requirement already satisfied: blinker<2,>=1.0.0 in e:\\anaconda\\lib\\site-packages (from streamlit) (1.6.2)\n",
      "Requirement already satisfied: cachetools<6,>=4.0 in e:\\anaconda\\lib\\site-packages (from streamlit) (5.3.3)\n",
      "Requirement already satisfied: click<9,>=7.0 in e:\\anaconda\\lib\\site-packages (from streamlit) (8.1.7)\n",
      "Requirement already satisfied: protobuf<6,>=3.20 in e:\\anaconda\\lib\\site-packages (from streamlit) (4.25.3)\n",
      "Requirement already satisfied: pyarrow>=7.0 in e:\\anaconda\\lib\\site-packages (from streamlit) (16.1.0)\n",
      "Requirement already satisfied: requests<3,>=2.27 in e:\\anaconda\\lib\\site-packages (from streamlit) (2.32.3)\n",
      "Requirement already satisfied: rich<14,>=10.14.0 in e:\\anaconda\\lib\\site-packages (from streamlit) (13.7.1)\n",
      "Requirement already satisfied: tenacity<9,>=8.1.0 in e:\\anaconda\\lib\\site-packages (from streamlit) (8.2.3)\n",
      "Requirement already satisfied: toml<2,>=0.10.1 in e:\\anaconda\\lib\\site-packages (from streamlit) (0.10.2)\n",
      "Requirement already satisfied: typing-extensions<5,>=4.3.0 in e:\\anaconda\\lib\\site-packages (from streamlit) (4.11.0)\n",
      "Requirement already satisfied: gitpython!=3.1.19,<4,>=3.0.7 in e:\\anaconda\\lib\\site-packages (from streamlit) (3.1.43)\n",
      "Requirement already satisfied: pydeck<1,>=0.8.0b4 in e:\\anaconda\\lib\\site-packages (from streamlit) (0.8.0)\n",
      "Requirement already satisfied: tornado<7,>=6.0.3 in e:\\anaconda\\lib\\site-packages (from streamlit) (6.4.1)\n",
      "Requirement already satisfied: watchdog<5,>=2.1.5 in e:\\anaconda\\lib\\site-packages (from streamlit) (4.0.1)\n",
      "Requirement already satisfied: defusedxml in e:\\anaconda\\lib\\site-packages (from fpdf2) (0.7.1)\n",
      "Requirement already satisfied: lxml>=3.1.0 in e:\\anaconda\\lib\\site-packages (from python-docx) (5.2.1)\n",
      "Requirement already satisfied: jinja2 in e:\\anaconda\\lib\\site-packages (from altair<6,>=4.0->streamlit) (3.1.4)\n",
      "Requirement already satisfied: jsonschema>=3.0 in e:\\anaconda\\lib\\site-packages (from altair<6,>=4.0->streamlit) (4.23.0)\n",
      "Requirement already satisfied: toolz in e:\\anaconda\\lib\\site-packages (from altair<6,>=4.0->streamlit) (0.12.0)\n",
      "Requirement already satisfied: colorama in e:\\anaconda\\lib\\site-packages (from click<9,>=7.0->streamlit) (0.4.6)\n",
      "Requirement already satisfied: gitdb<5,>=4.0.1 in e:\\anaconda\\lib\\site-packages (from gitpython!=3.1.19,<4,>=3.0.7->streamlit) (4.0.7)\n",
      "Requirement already satisfied: six>=1.5 in e:\\anaconda\\lib\\site-packages (from python-dateutil>=2.8.2->pandas) (1.16.0)\n",
      "Requirement already satisfied: charset-normalizer<4,>=2 in e:\\anaconda\\lib\\site-packages (from requests<3,>=2.27->streamlit) (3.3.2)\n",
      "Requirement already satisfied: idna<4,>=2.5 in e:\\anaconda\\lib\\site-packages (from requests<3,>=2.27->streamlit) (3.7)\n",
      "Requirement already satisfied: urllib3<3,>=1.21.1 in e:\\anaconda\\lib\\site-packages (from requests<3,>=2.27->streamlit) (2.2.3)\n",
      "Requirement already satisfied: certifi>=2017.4.17 in e:\\anaconda\\lib\\site-packages (from requests<3,>=2.27->streamlit) (2025.4.26)\n",
      "Requirement already satisfied: markdown-it-py>=2.2.0 in e:\\anaconda\\lib\\site-packages (from rich<14,>=10.14.0->streamlit) (2.2.0)\n",
      "Requirement already satisfied: pygments<3.0.0,>=2.13.0 in e:\\anaconda\\lib\\site-packages (from rich<14,>=10.14.0->streamlit) (2.15.1)\n",
      "Requirement already satisfied: smmap<5,>=3.0.1 in e:\\anaconda\\lib\\site-packages (from gitdb<5,>=4.0.1->gitpython!=3.1.19,<4,>=3.0.7->streamlit) (4.0.0)\n",
      "Requirement already satisfied: MarkupSafe>=2.0 in e:\\anaconda\\lib\\site-packages (from jinja2->altair<6,>=4.0->streamlit) (2.1.3)\n",
      "Requirement already satisfied: attrs>=22.2.0 in e:\\anaconda\\lib\\site-packages (from jsonschema>=3.0->altair<6,>=4.0->streamlit) (23.1.0)\n",
      "Requirement already satisfied: jsonschema-specifications>=2023.03.6 in e:\\anaconda\\lib\\site-packages (from jsonschema>=3.0->altair<6,>=4.0->streamlit) (2023.7.1)\n",
      "Requirement already satisfied: referencing>=0.28.4 in e:\\anaconda\\lib\\site-packages (from jsonschema>=3.0->altair<6,>=4.0->streamlit) (0.30.2)\n",
      "Requirement already satisfied: rpds-py>=0.7.1 in e:\\anaconda\\lib\\site-packages (from jsonschema>=3.0->altair<6,>=4.0->streamlit) (0.10.6)\n",
      "Requirement already satisfied: mdurl~=0.1 in e:\\anaconda\\lib\\site-packages (from markdown-it-py>=2.2.0->rich<14,>=10.14.0->streamlit) (0.1.0)\n",
      "Downloading fpdf2-2.8.3-py2.py3-none-any.whl (245 kB)\n",
      "Downloading python_docx-1.2.0-py3-none-any.whl (252 kB)\n",
      "Installing collected packages: python-docx, fpdf2\n",
      "Successfully installed fpdf2-2.8.3 python-docx-1.2.0\n"
     ]
    }
   ],
   "source": [
    "!pip install pandas matplotlib seaborn openpyxl streamlit fpdf2 python-docx\n"
   ]
  },
  {
   "cell_type": "code",
   "execution_count": 2,
   "id": "c0affafa-e1ef-4b27-aacf-14d44a89ef3d",
   "metadata": {},
   "outputs": [
    {
     "data": {
      "text/html": [
       "<div>\n",
       "<style scoped>\n",
       "    .dataframe tbody tr th:only-of-type {\n",
       "        vertical-align: middle;\n",
       "    }\n",
       "\n",
       "    .dataframe tbody tr th {\n",
       "        vertical-align: top;\n",
       "    }\n",
       "\n",
       "    .dataframe thead th {\n",
       "        text-align: right;\n",
       "    }\n",
       "</style>\n",
       "<table border=\"1\" class=\"dataframe\">\n",
       "  <thead>\n",
       "    <tr style=\"text-align: right;\">\n",
       "      <th></th>\n",
       "      <th>Date</th>\n",
       "      <th>Product</th>\n",
       "      <th>Category</th>\n",
       "      <th>Customer</th>\n",
       "      <th>Quantity</th>\n",
       "      <th>Unit Price</th>\n",
       "      <th>Total Sale</th>\n",
       "    </tr>\n",
       "  </thead>\n",
       "  <tbody>\n",
       "    <tr>\n",
       "      <th>0</th>\n",
       "      <td>2024-01-01</td>\n",
       "      <td>Widget A</td>\n",
       "      <td>Tools</td>\n",
       "      <td>John Doe</td>\n",
       "      <td>3</td>\n",
       "      <td>20</td>\n",
       "      <td>60</td>\n",
       "    </tr>\n",
       "    <tr>\n",
       "      <th>1</th>\n",
       "      <td>2024-01-02</td>\n",
       "      <td>Widget B</td>\n",
       "      <td>Tools</td>\n",
       "      <td>Jane Smith</td>\n",
       "      <td>2</td>\n",
       "      <td>50</td>\n",
       "      <td>100</td>\n",
       "    </tr>\n",
       "    <tr>\n",
       "      <th>2</th>\n",
       "      <td>2024-01-03</td>\n",
       "      <td>Widget A</td>\n",
       "      <td>Tools</td>\n",
       "      <td>Mike Johnson</td>\n",
       "      <td>5</td>\n",
       "      <td>20</td>\n",
       "      <td>100</td>\n",
       "    </tr>\n",
       "    <tr>\n",
       "      <th>3</th>\n",
       "      <td>2024-01-04</td>\n",
       "      <td>Widget C</td>\n",
       "      <td>Tools</td>\n",
       "      <td>John Doe</td>\n",
       "      <td>1</td>\n",
       "      <td>100</td>\n",
       "      <td>100</td>\n",
       "    </tr>\n",
       "  </tbody>\n",
       "</table>\n",
       "</div>"
      ],
      "text/plain": [
       "        Date   Product Category      Customer  Quantity  Unit Price  \\\n",
       "0 2024-01-01  Widget A    Tools      John Doe         3          20   \n",
       "1 2024-01-02  Widget B    Tools    Jane Smith         2          50   \n",
       "2 2024-01-03  Widget A    Tools  Mike Johnson         5          20   \n",
       "3 2024-01-04  Widget C    Tools      John Doe         1         100   \n",
       "\n",
       "   Total Sale  \n",
       "0          60  \n",
       "1         100  \n",
       "2         100  \n",
       "3         100  "
      ]
     },
     "execution_count": 2,
     "metadata": {},
     "output_type": "execute_result"
    }
   ],
   "source": [
    "import pandas as pd\n",
    "\n",
    "# Load the sample Excel file\n",
    "file_path = 'sample_data/business_data.xlsx'\n",
    "df = pd.read_excel(file_path)\n",
    "\n",
    "# Show first few rows\n",
    "df.head()\n"
   ]
  },
  {
   "cell_type": "code",
   "execution_count": 3,
   "id": "628f6705-abfb-4a6d-8fcc-06488b9f6dd5",
   "metadata": {},
   "outputs": [
    {
     "data": {
      "text/plain": [
       "{'Total Sales': 360,\n",
       " 'Total Customers': 3,\n",
       " 'Top Customer': 'John Doe',\n",
       " 'Top Product': 'Widget A'}"
      ]
     },
     "execution_count": 3,
     "metadata": {},
     "output_type": "execute_result"
    }
   ],
   "source": [
    "def generate_summary(df):\n",
    "    summary = {}\n",
    "\n",
    "    summary['Total Sales'] = df['Total Sale'].sum()\n",
    "    summary['Total Customers'] = df['Customer'].nunique()\n",
    "    summary['Top Customer'] = df.groupby('Customer')['Total Sale'].sum().idxmax()\n",
    "    summary['Top Product'] = df.groupby('Product')['Total Sale'].sum().idxmax()\n",
    "\n",
    "    return summary\n",
    "\n",
    "# Run the summary function\n",
    "business_summary = generate_summary(df)\n",
    "business_summary\n"
   ]
  },
  {
   "cell_type": "code",
   "execution_count": 4,
   "id": "f3f426ab-94a5-44a7-8c0b-080489b4a914",
   "metadata": {},
   "outputs": [],
   "source": [
    "import matplotlib.pyplot as plt\n",
    "import seaborn as sns\n",
    "\n",
    "# Optional: improve chart look\n",
    "sns.set(style=\"whitegrid\")\n",
    "\n",
    "# Convert 'Date' column to datetime\n",
    "df['Date'] = pd.to_datetime(df['Date'])\n",
    "\n",
    "# Create output folder if not exists\n",
    "import os\n",
    "os.makedirs(\"output\", exist_ok=True)\n"
   ]
  },
  {
   "cell_type": "code",
   "execution_count": 5,
   "id": "158c88e6-568f-492e-b3e7-9f431642a47e",
   "metadata": {},
   "outputs": [
    {
     "data": {
      "image/png": "[encoded data removed]",
      "text/plain": [
       "<Figure size 800x500 with 1 Axes>"
      ]
     },
     "metadata": {},
     "output_type": "display_data"
    }
   ],
   "source": [
    "plt.figure(figsize=(8, 5))\n",
    "product_sales = df.groupby('Product')['Total Sale'].sum().sort_values()\n",
    "product_sales.plot(kind='barh', color='skyblue')\n",
    "plt.title('Sales by Product')\n",
    "plt.xlabel('Total Sale')\n",
    "plt.tight_layout()\n",
    "plt.savefig('output/sales_by_product.png')\n",
    "plt.show()\n"
   ]
  },
  {
   "cell_type": "code",
   "execution_count": 6,
   "id": "7a8f6c1d-13fb-4cdb-9934-1ef3ea47ade9",
   "metadata": {},
   "outputs": [
    {
     "data": {
      "image/png": "[encoded data removed]",
      "text/plain": [
       "<Figure size 800x500 with 1 Axes>"
      ]
     },
     "metadata": {},
     "output_type": "display_data"
    }
   ],
   "source": [
    "plt.figure(figsize=(8, 5))\n",
    "time_sales = df.groupby('Date')['Total Sale'].sum()\n",
    "time_sales.plot(marker='o', color='green')\n",
    "plt.title('Sales Over Time')\n",
    "plt.xlabel('Date')\n",
    "plt.ylabel('Total Sale')\n",
    "plt.tight_layout()\n",
    "plt.savefig('output/sales_over_time.png')\n",
    "plt.show()\n"
   ]
  },
  {
   "cell_type": "code",
   "execution_count": 7,
   "id": "afce4b20-7b16-4db4-97bb-de4243fc6a38",
   "metadata": {},
   "outputs": [
    {
     "name": "stdout",
     "output_type": "stream",
     "text": [
      "Requirement already satisfied: fpdf2 in e:\\anaconda\\lib\\site-packages (2.8.3)\n",
      "Requirement already satisfied: defusedxml in e:\\anaconda\\lib\\site-packages (from fpdf2) (0.7.1)\n",
      "Requirement already satisfied: Pillow!=9.2.*,>=6.2.2 in e:\\anaconda\\lib\\site-packages (from fpdf2) (10.4.0)\n",
      "Requirement already satisfied: fonttools>=4.34.0 in e:\\anaconda\\lib\\site-packages (from fpdf2) (4.51.0)\n"
     ]
    }
   ],
   "source": [
    "!pip install fpdf2\n"
   ]
  },
  {
   "cell_type": "code",
   "execution_count": 28,
   "id": "9c27d80f-faf0-45ec-a2cb-f49730114692",
   "metadata": {},
   "outputs": [],
   "source": [
    "from fpdf import FPDF\n",
    "from fpdf.enums import XPos, YPos  # Required for new_x, new_y\n",
    "\n",
    "def export_pdf(summary_dict, output_path=\"output/business_report.pdf\"):\n",
    "    pdf = FPDF()\n",
    "    pdf.add_page()\n",
    "\n",
    "    # Title\n",
    "    pdf.set_font(\"Helvetica\", \"B\", 16)\n",
    "    pdf.cell(w=0, h=10, text=\"Business Summary Report\", new_x=XPos.LMARGIN, new_y=YPos.NEXT, align=\"C\")\n",
    "\n",
    "    pdf.set_font(\"Helvetica\", size=12)\n",
    "    pdf.ln(10)\n",
    "\n",
    "    # Summary Content\n",
    "    for key, value in summary_dict.items():\n",
    "        line = f\"{key.replace('_', ' ').title()}: {value}\"\n",
    "        pdf.cell(w=0, h=10, text=line, new_x=XPos.LMARGIN, new_y=YPos.NEXT)\n",
    "\n",
    "    pdf.ln(5)\n",
    "    pdf.set_font(\"Helvetica\", \"B\", 12)\n",
    "    pdf.cell(w=0, h=10, text=\"Charts Attached Below:\", new_x=XPos.LMARGIN, new_y=YPos.NEXT)\n",
    "\n",
    "    # Insert Charts\n",
    "    if os.path.exists(\"output/sales_by_product.png\"):\n",
    "        pdf.image(\"output/sales_by_product.png\", w=180)\n",
    "    if os.path.exists(\"output/sales_over_time.png\"):\n",
    "        pdf.image(\"output/sales_over_time.png\", w=180)\n",
    "\n",
    "    # Save PDF\n",
    "    pdf.output(output_path)\n",
    "    print(f\"✅ PDF saved to: {output_path}\")\n"
   ]
  },
  {
   "cell_type": "code",
   "execution_count": 29,
   "id": "edd15990-7fa4-4c98-8a87-00d92f15ed00",
   "metadata": {},
   "outputs": [
    {
     "name": "stdout",
     "output_type": "stream",
     "text": [
      "✅ PDF saved to: output/business_report.pdf\n"
     ]
    }
   ],
   "source": [
    "export_pdf(business_summary)\n"
   ]
  },
  {
   "cell_type": "code",
   "execution_count": null,
   "id": "cc1eebba-8232-4354-8f52-f4b10771eada",
   "metadata": {},
   "outputs": [],
   "source": []
  }
 ],
 "metadata": {
  "kernelspec": {
   "display_name": "Python 3 (ipykernel)",
   "language": "python",
   "name": "python3"
  },
  "language_info": {
   "codemirror_mode": {
    "name": "ipython",
    "version": 3
   },
   "file_extension": ".py",
   "mimetype": "text/x-python",
   "name": "python",
   "nbconvert_exporter": "python",
   "pygments_lexer": "ipython3",
   "version": "3.12.7"
  }
 },
 "nbformat": 4,
 "nbformat_minor": 5
}
